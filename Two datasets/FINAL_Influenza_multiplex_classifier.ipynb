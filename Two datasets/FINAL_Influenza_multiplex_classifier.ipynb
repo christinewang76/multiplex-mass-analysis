{
 "cells": [
  {
   "cell_type": "code",
   "execution_count": 1,
   "metadata": {},
   "outputs": [],
   "source": [
    "import pandas as pd\n",
    "import numpy as np\n",
    "import os\n",
    "import math\n",
    "import matplotlib.pyplot as plt\n",
    "from scipy import stats\n",
    "from sklearn.ensemble import RandomForestClassifier\n",
    "import scanpy as sc\n",
    "from sklearn import metrics\n",
    "from sklearn.metrics import accuracy_score\n",
    "from sklearn.metrics import confusion_matrix, roc_curve, auc\n",
    "from sklearn.metrics import ConfusionMatrixDisplay\n",
    "from sklearn.model_selection import GridSearchCV"
   ]
  },
  {
   "cell_type": "code",
   "execution_count": 2,
   "metadata": {},
   "outputs": [],
   "source": [
    "#Import a dataset\n",
    "dir_path = \"C://Users/chris/OneDrive/Desktop/MIT postdoc project/ABN project/Influenza/Final analysis_headspace/2023_08_19_Breath_PR8_multiplex\" \n",
    "dir_list = sorted(os.listdir(dir_path))"
   ]
  },
  {
   "cell_type": "code",
   "execution_count": 3,
   "metadata": {},
   "outputs": [],
   "source": [
    "#import excel file using panda as df\n",
    "name = dir_path + '/zscore_10min_code.xlsx'\n",
    "df = pd.read_excel(name)"
   ]
  },
  {
   "cell_type": "code",
   "execution_count": 4,
   "metadata": {},
   "outputs": [],
   "source": [
    "#Convert sample type to numpy and assign sample as 0 and 1\n",
    "type = df.iloc[:,0]\n",
    "type = type.to_numpy()\n",
    "\n",
    "assign_type = []\n",
    "for i in type:\n",
    "    if 'H' in i:\n",
    "        assign_type.append(0)\n",
    "    elif 'R' in i:\n",
    "        assign_type.append(1)"
   ]
  },
  {
   "cell_type": "code",
   "execution_count": 5,
   "metadata": {},
   "outputs": [],
   "source": [
    "#Classify either with one sensor or multiplex\n",
    "ns1_1 = df.iloc[:,1]\n",
    "ns1_2 = df.iloc[:,2]\n",
    "ns1_3 = df.iloc[:,3]\n",
    "ns1_4 = df.iloc[:,4]\n",
    "ns1_5 = df.iloc[:,5]\n",
    "\n",
    "ns1_all = df.iloc[:,1:6]\n",
    "\n",
    "ns1_1 = ns1_1.to_numpy().reshape(-1,1)\n",
    "ns1_2 = ns1_2.to_numpy().reshape(-1,1)\n",
    "ns1_3 = ns1_3.to_numpy().reshape(-1,1)\n",
    "ns1_4 = ns1_4.to_numpy().reshape(-1,1)\n",
    "ns1_5 = ns1_5.to_numpy().reshape(-1,1)\n",
    "\n",
    "ns1_all = ns1_all.to_numpy()"
   ]
  },
  {
   "cell_type": "code",
   "execution_count": 6,
   "metadata": {},
   "outputs": [],
   "source": [
    "#import the second dataset\n",
    "dir_path2 = \"C://Users/chris/OneDrive/Desktop/MIT postdoc project/ABN project/Influenza/Final analysis_headspace/2023_0913_0916__Breath_PR8_day3_day6_multiplex_longitudinal/Day6\" \n",
    "dir_list2 = sorted(os.listdir(dir_path2))"
   ]
  },
  {
   "cell_type": "code",
   "execution_count": 8,
   "metadata": {},
   "outputs": [],
   "source": [
    "name2 = dir_path2 + '/zscore_10min_code.xlsx'\n",
    "df2 = pd.read_excel(name2)"
   ]
  },
  {
   "cell_type": "code",
   "execution_count": 9,
   "metadata": {},
   "outputs": [],
   "source": [
    "type2 = df2.iloc[:,0]\n",
    "\n",
    "assign_type2 = []\n",
    "for i in type2:\n",
    "    if 'H' in i:\n",
    "        assign_type2.append(0)\n",
    "    elif 'R' in i:\n",
    "        assign_type2.append(1)\n",
    "\n",
    "assign_type2 = np.array(assign_type2)\n",
    "assign_type2 = assign_type2.reshape(-1,1)"
   ]
  },
  {
   "cell_type": "code",
   "execution_count": 10,
   "metadata": {},
   "outputs": [],
   "source": [
    "ns2_1 = df2.iloc[:,1]\n",
    "ns2_2 = df2.iloc[:,2]\n",
    "ns2_3 = df2.iloc[:,3]\n",
    "ns2_4 = df2.iloc[:,4]\n",
    "ns2_5 = df2.iloc[:,5]\n",
    "\n",
    "ns2_all = df2.iloc[:,1:6]\n",
    "\n",
    "ns2_1 = ns2_1.to_numpy().reshape(-1,1)\n",
    "ns2_2 = ns2_2.to_numpy().reshape(-1,1)\n",
    "ns2_3 = ns2_3.to_numpy().reshape(-1,1)\n",
    "ns2_4 = ns2_4.to_numpy().reshape(-1,1)\n",
    "ns2_5 = ns2_5.to_numpy().reshape(-1,1)\n",
    "\n",
    "ns2_all = ns2_all.to_numpy()"
   ]
  },
  {
   "cell_type": "code",
   "execution_count": 11,
   "metadata": {},
   "outputs": [],
   "source": [
    "X_train1_1 = ns1_1\n",
    "X_train1_2 = ns1_2\n",
    "X_train1_3 = ns1_3\n",
    "X_train1_4 = ns1_4\n",
    "X_train1_5 = ns1_5\n",
    "\n",
    "X_train1_all = ns1_all\n",
    "y_train = assign_type\n",
    "\n",
    "X_test2_1 = ns2_1\n",
    "X_test2_2 = ns2_2\n",
    "X_test2_3 = ns2_3\n",
    "X_test2_4 = ns2_4\n",
    "X_test2_5 = ns2_5\n",
    "\n",
    "X_test2_all = ns2_all\n",
    "y_test = assign_type2.ravel()"
   ]
  },
  {
   "cell_type": "code",
   "execution_count": 12,
   "metadata": {},
   "outputs": [],
   "source": [
    "clf = RandomForestClassifier(n_estimators=1000, \n",
    "                             criterion='gini',\n",
    "                             random_state=42, \n",
    "                             max_depth=10,\n",
    "                             min_samples_leaf=2,\n",
    "                            max_features='sqrt')"
   ]
  },
  {
   "cell_type": "code",
   "execution_count": 13,
   "metadata": {},
   "outputs": [],
   "source": [
    "clf.fit(X_train1_1, y_train)\n",
    "y_pred1 = clf.predict_proba(X_test2_1)[:, 1]\n",
    "\n",
    "clf.fit(X_train1_2, y_train)\n",
    "y_pred2 = clf.predict_proba(X_test2_2)[:, 1]\n",
    "\n",
    "clf.fit(X_train1_3, y_train)\n",
    "y_pred3 = clf.predict_proba(X_test2_3)[:, 1]\n",
    "\n",
    "clf.fit(X_train1_4, y_train)\n",
    "y_pred4 = clf.predict_proba(X_test2_4)[:, 1]\n",
    "\n",
    "clf.fit(X_train1_5, y_train)\n",
    "y_pred5 = clf.predict_proba(X_test2_5)[:, 1]\n",
    "\n",
    "clf.fit(X_train1_all, y_train)\n",
    "y_pred_all = clf.predict_proba(X_test2_all)[:, 1]"
   ]
  },
  {
   "cell_type": "code",
   "execution_count": null,
   "metadata": {
    "scrolled": true
   },
   "outputs": [],
   "source": [
    "from sklearn.metrics import roc_curve, auc\n",
    "fpr1, tpr1, thresholds = roc_curve(y_test, y_pred1)\n",
    "fpr2, tpr2, thresholds = roc_curve(y_test, y_pred2)\n",
    "fpr3, tpr3, thresholds = roc_curve(y_test, y_pred3)\n",
    "fpr4, tpr4, thresholds = roc_curve(y_test, y_pred4)\n",
    "fpr5, tpr5, thresholds = roc_curve(y_test, y_pred5)\n",
    "fpr_all, tpr_all, thresholds = roc_curve(y_test, y_pred_all)\n",
    "\n",
    "roc_auc1 = auc(fpr1, tpr1)\n",
    "roc_auc2 = auc(fpr2, tpr2)\n",
    "roc_auc3 = auc(fpr3, tpr3)\n",
    "roc_auc4 = auc(fpr4, tpr4)\n",
    "roc_auc5 = auc(fpr5, tpr5)\n",
    "roc_auc_all = auc(fpr_all, tpr_all)\n",
    "\n",
    "#vABN1: BV01-HFA1, vABN2: PP02-HFA3, vABN3: Q6-d5eth, vABN4: PP12-d7isop, vABN5 OCW32-d5but\n",
    "plt.figure(figsize=(3, 3),dpi = 160)\n",
    "plt.rc('font', family='Arial')\n",
    "plt.plot(fpr1, tpr1, color='blue', lw=1.5, label='vABN1 (AUC: %0.2f)' % roc_auc1)\n",
    "plt.plot(fpr3, tpr3, color='purple', lw=1.5, label='vABN2 (AUC: %0.2f)' % roc_auc3)\n",
    "plt.plot(fpr5, tpr5, color='red', lw=1.5, label='vABN3 (AUC: %0.2f)' % roc_auc5)\n",
    "plt.plot(fpr4, tpr4, color='gold', lw=1.5, label='vABN4 (AUC: %0.2f)' % roc_auc4)\n",
    "plt.plot(fpr2, tpr2, color='green', lw=1.5, label='vABN5 (AUC: %0.2f)' % roc_auc2)\n",
    "\n",
    "plt.plot(fpr_all, tpr_all, color='Black', lw=1.5, label='Multiplex (AUC: %0.2f)' % roc_auc_all)\n",
    "\n",
    "\n",
    "plt.plot([0, 1], [0, 1], 'k--', alpha=0.5, lw=1, label='Random classifier')\n",
    "\n",
    "plt.xticks(fontsize=13)\n",
    "plt.yticks(fontsize=13)\n",
    "plt.xlabel('1 - Specificity', fontsize=13)\n",
    "plt.ylabel('Sensitivity', fontsize=13)\n",
    "#plt.title('ROC Curve')\n",
    "plt.legend(bbox_to_anchor=(1.05, 0.9), loc='upper left', edgecolor=\"None\")\n",
    "\n",
    "plt.show()"
   ]
  },
  {
   "cell_type": "code",
   "execution_count": null,
   "metadata": {},
   "outputs": [],
   "source": [
    "param_dist = {'max_depth': stats.randint(1,20),\n",
    "             'min_samples_leaf' : stats.randint(1, 5), \n",
    "             'random_state': [0, 42],\n",
    "              'criterion' : ['gini', 'entropy'],\n",
    "             'max_features' : ['sqrt', 'log2', 0.2, 0.4, 0.6]}\n",
    "\n",
    "# Create a random forest classifier\n",
    "rf = RandomForestClassifier()\n",
    "\n",
    "# Use random search to find the best hyperparameters\n",
    "rand_search = RandomizedSearchCV(rf, \n",
    "                                 param_distributions = param_dist)"
   ]
  },
  {
   "cell_type": "code",
   "execution_count": null,
   "metadata": {},
   "outputs": [],
   "source": [
    "#Randomized search on the training set of data\n",
    "# Fit the random search object to the data\n",
    "rand_search.fit(X_train1_all, y_train)\n",
    "# Create a variable for the best model\n",
    "best_rf = rand_search.best_estimator_\n",
    "\n",
    "# Print the best hyperparameters\n",
    "print('Best hyperparameters:',  rand_search.best_params_)"
   ]
  },
  {
   "cell_type": "code",
   "execution_count": null,
   "metadata": {},
   "outputs": [],
   "source": [
    "#Randomized search on the testing set of data\n",
    "# Fit the random search object to the data\n",
    "rand_search.fit(X_test2_all, y_test)\n",
    "# Create a variable for the best model\n",
    "best_rf = rand_search.best_estimator_\n",
    "\n",
    "# Print the best hyperparameters\n",
    "print('Best hyperparameters:',  rand_search.best_params_)"
   ]
  },
  {
   "cell_type": "code",
   "execution_count": null,
   "metadata": {},
   "outputs": [],
   "source": [
    "#single plex plot\n",
    "fpr_all, tpr_all, thresholds = roc_curve(y_test, y_pred_all)\n",
    "roc_auc_all = auc(fpr_all, tpr_all)\n",
    "plt.figure(figsize=(3, 3),dpi = 160)\n",
    "plt.rc('font', family='Arial')\n",
    "plt.plot(fpr_all, tpr_all, color='black', lw=1.5, label='PR8 (AUC: %0.2f)' % roc_auc_all)\n",
    "plt.plot([0, 1], [0, 1], 'k--', alpha=0.3, lw=1.2, label='Random classifier')\n",
    "\n",
    "plt.xticks(fontsize=13)\n",
    "plt.yticks(fontsize=13)\n",
    "\n",
    "plt.xlabel('1 - Specificity', fontsize=13, labelpad=5)\n",
    "plt.ylabel('Sensitivity', fontsize=13, labelpad=5)\n",
    "#plt.title('ROC Curve')\n",
    "plt.legend(bbox_to_anchor=(0.20, 0.25), loc='best', facecolor=\"None\", edgecolor=\"None\",\n",
    "          fontsize=11)\n",
    "\n",
    "plt.show()"
   ]
  },
  {
   "cell_type": "code",
   "execution_count": null,
   "metadata": {},
   "outputs": [],
   "source": [
    "#Permute the random state to obtain the average AUC\n",
    "state = np.random.RandomState(0).randint(0,200,5)\n",
    "print(state)\n",
    "\n",
    "AUC_result = []\n",
    "\n",
    "for i in state: \n",
    "    clf = RandomForestClassifier(n_estimators=1000, \n",
    "                                 criterion='gini',\n",
    "                                 random_state=i, \n",
    "                                 max_depth=10,\n",
    "                                 min_samples_leaf=2,\n",
    "                                max_features='sqrt')\n",
    "\n",
    "    clf.fit(X_train1_all, y_train)\n",
    "    y_pred_all = clf.predict_proba(X_test2_all)[:, 1]\n",
    "    fpr_all, tpr_all, thresholds = roc_curve(y_test, y_pred_all)\n",
    "    roc_auc_all = auc(fpr_all, tpr_all)\n",
    "    AUC_result.append(roc_auc_all)\n",
    "\n",
    "print(AUC_result)\n",
    "total = sum(AUC_result)\n",
    "avg = total/5\n",
    "print(avg)"
   ]
  },
  {
   "cell_type": "code",
   "execution_count": null,
   "metadata": {},
   "outputs": [],
   "source": [
    "y_pred = clf.predict(X_test2_all)\n",
    "print(\"ACCURACY OF THE MODEL: \", metrics.accuracy_score(y_test, y_pred))"
   ]
  },
  {
   "cell_type": "code",
   "execution_count": null,
   "metadata": {},
   "outputs": [],
   "source": [
    "#https://matplotlib.org/stable/users/explain/colors/colormaps.html\n",
    "    \n",
    "def plot_cm(y_test, y_pred): \n",
    "    fig, ax = plt.subplots(figsize=(3, 3),dpi = 160)\n",
    "    plt.rc('font', family='Arial')\n",
    "    disp = ConfusionMatrixDisplay.from_predictions(y_test, y_pred, display_labels=['Healthy', 'PR8'],cmap=plt.cm.Greys, ax=ax)\n",
    "    plt.rcParams.update({'font.size': 11})\n",
    "    \n",
    "    label_font = {'size':'12'}  # Adjust to fit\n",
    "    ax.set_xlabel('Predicted labels', fontdict=label_font, labelpad=5.0);\n",
    "    ax.set_ylabel('True labels', fontdict=label_font, labelpad=5.0);"
   ]
  },
  {
   "cell_type": "code",
   "execution_count": null,
   "metadata": {},
   "outputs": [],
   "source": [
    "plot_cm(y_test, y_pred)"
   ]
  },
  {
   "cell_type": "code",
   "execution_count": null,
   "metadata": {},
   "outputs": [],
   "source": []
  },
  {
   "cell_type": "code",
   "execution_count": null,
   "metadata": {},
   "outputs": [],
   "source": [
    "#SVC model\n",
    "from sklearn.metrics import RocCurveDisplay\n",
    "from sklearn.model_selection import train_test_split\n",
    "from sklearn.svm import SVC"
   ]
  },
  {
   "cell_type": "code",
   "execution_count": null,
   "metadata": {},
   "outputs": [],
   "source": [
    "clf = SVC(random_state=0).fit(X_train1_1, y_train)\n",
    "y_pred1 = clf.decision_function(X_test2_1)\n",
    "clf = SVC(random_state=0).fit(X_train1_2, y_train)\n",
    "y_pred2 = clf.decision_function(X_test2_2)\n",
    "clf = SVC(random_state=0).fit(X_train1_3, y_train)\n",
    "y_pred3 = clf.decision_function(X_test2_3)\n",
    "clf = SVC(random_state=0).fit(X_train1_4, y_train)\n",
    "y_pred4 = clf.decision_function(X_test2_4)\n",
    "clf = SVC(random_state=0).fit(X_train1_5, y_train)\n",
    "y_pred5 = clf.decision_function(X_test2_5)\n",
    "clf = SVC(random_state=0).fit(X_train1_all, y_train)\n",
    "y_pred_all = clf.decision_function(X_test2_all)"
   ]
  },
  {
   "cell_type": "code",
   "execution_count": null,
   "metadata": {},
   "outputs": [],
   "source": [
    "fpr1, tpr1, thresholds = roc_curve(y_test, y_pred1)\n",
    "fpr2, tpr2, thresholds = roc_curve(y_test, y_pred2)\n",
    "fpr3, tpr3, thresholds = roc_curve(y_test, y_pred3)\n",
    "fpr4, tpr4, thresholds = roc_curve(y_test, y_pred4)\n",
    "fpr5, tpr5, thresholds = roc_curve(y_test, y_pred5)\n",
    "fpr_all, tpr_all, thresholds = roc_curve(y_test, y_pred_all)\n",
    "\n",
    "roc_auc1 = auc(fpr1, tpr1)\n",
    "roc_auc2 = auc(fpr2, tpr2)\n",
    "roc_auc3 = auc(fpr3, tpr3)\n",
    "roc_auc4 = auc(fpr4, tpr4)\n",
    "roc_auc5 = auc(fpr5, tpr5)\n",
    "roc_auc_all = auc(fpr_all, tpr_all)\n",
    "\n",
    "\n",
    "plt.figure(figsize=(3, 3),dpi = 160)\n",
    "plt.plot(fpr1, tpr1, color='blue', lw=2, label='BV01-HFA1 (area = %0.2f)' % roc_auc1)\n",
    "plt.plot(fpr2, tpr2, color='green', lw=2, label='OCW32-d3but (area = %0.2f)' % roc_auc2)\n",
    "plt.plot(fpr3, tpr3, color='purple', lw=2, label='PP02-HFA3 (area = %0.2f)' % roc_auc3)\n",
    "plt.plot(fpr4, tpr4, color='brown', lw=2, label='PP12-d7isop (area = %0.2f)' % roc_auc4)\n",
    "plt.plot(fpr5, tpr5, color='hotpink', lw=2, label='Q6-d5eth (area = %0.2f)' % roc_auc5)\n",
    "plt.plot(fpr_all, tpr_all, color='darkorange', lw=2, label='Multiplex (area = %0.2f)' % roc_auc_all)\n",
    "\n",
    "\n",
    "plt.plot([0, 1], [0, 1], 'k--', label='Random classifier')\n",
    "\n",
    "plt.xticks(fontsize=8)\n",
    "plt.yticks(fontsize=8)\n",
    "plt.xlabel('False Positive Rate', fontsize=10)\n",
    "plt.ylabel('True Positive Rate', fontsize=10)\n",
    "plt.title('ROC Curve')\n",
    "plt.legend(bbox_to_anchor=(1.05, 1.0), loc='upper left')\n",
    "\n",
    "plt.show()"
   ]
  },
  {
   "cell_type": "code",
   "execution_count": null,
   "metadata": {},
   "outputs": [],
   "source": []
  },
  {
   "cell_type": "code",
   "execution_count": null,
   "metadata": {},
   "outputs": [],
   "source": []
  },
  {
   "cell_type": "code",
   "execution_count": null,
   "metadata": {},
   "outputs": [],
   "source": []
  },
  {
   "cell_type": "code",
   "execution_count": null,
   "metadata": {},
   "outputs": [],
   "source": []
  },
  {
   "cell_type": "code",
   "execution_count": null,
   "metadata": {},
   "outputs": [],
   "source": []
  },
  {
   "cell_type": "code",
   "execution_count": null,
   "metadata": {},
   "outputs": [],
   "source": [
    "from sklearn.linear_model import LogisticRegression"
   ]
  },
  {
   "cell_type": "code",
   "execution_count": null,
   "metadata": {},
   "outputs": [],
   "source": [
    "LR = LogisticRegression(random_state=0).fit(X_train1_1, y_train)\n",
    "LR.fit(X_train1_1, y_train)\n",
    "y_pred1 = LR.decision_function(X_test2_1)\n",
    "\n",
    "LR = LogisticRegression(random_state=0).fit(X_train1_2, y_train)\n",
    "LR.fit(X_train1_2, y_train)\n",
    "y_pred2 = LR.decision_function(X_test2_2)\n",
    "\n",
    "LR = LogisticRegression(random_state=0).fit(X_train1_3, y_train)\n",
    "LR.fit(X_train1_3, y_train)\n",
    "y_pred3 = LR.decision_function(X_test2_3)\n",
    "\n",
    "LR = LogisticRegression(random_state=0).fit(X_train1_4, y_train)\n",
    "LR.fit(X_train1_4, y_train)\n",
    "y_pred4 = LR.decision_function(X_test2_4)\n",
    "\n",
    "LR = LogisticRegression(random_state=0).fit(X_train1_5, y_train)\n",
    "LR.fit(X_train1_5, y_train)\n",
    "y_pred5 = LR.decision_function(X_test2_5)\n",
    "\n",
    "LR = LogisticRegression(random_state=0).fit(X_train1_all, y_train)\n",
    "LR.fit(X_train1_all, y_train)\n",
    "y_pred_all = LR.decision_function(X_test2_all)"
   ]
  },
  {
   "cell_type": "code",
   "execution_count": null,
   "metadata": {},
   "outputs": [],
   "source": [
    "fpr1, tpr1, thresholds = roc_curve(y_test, y_pred1)\n",
    "fpr2, tpr2, thresholds = roc_curve(y_test, y_pred2)\n",
    "fpr3, tpr3, thresholds = roc_curve(y_test, y_pred3)\n",
    "fpr4, tpr4, thresholds = roc_curve(y_test, y_pred4)\n",
    "fpr5, tpr5, thresholds = roc_curve(y_test, y_pred5)\n",
    "fpr_all, tpr_all, thresholds = roc_curve(y_test, y_pred_all)\n",
    "\n",
    "roc_auc1 = auc(fpr1, tpr1)\n",
    "roc_auc2 = auc(fpr2, tpr2)\n",
    "roc_auc3 = auc(fpr3, tpr3)\n",
    "roc_auc4 = auc(fpr4, tpr4)\n",
    "roc_auc5 = auc(fpr5, tpr5)\n",
    "roc_auc_all = auc(fpr_all, tpr_all)\n",
    "\n",
    "\n",
    "plt.figure(figsize=(3, 3),dpi = 160)\n",
    "plt.plot(fpr1, tpr1, color='blue', lw=2, label='BV01-HFA1 (area = %0.2f)' % roc_auc1)\n",
    "plt.plot(fpr2, tpr2, color='green', lw=2, label='OCW32-d3but (area = %0.2f)' % roc_auc2)\n",
    "plt.plot(fpr3, tpr3, color='purple', lw=2, label='PP02-HFA3 (area = %0.2f)' % roc_auc3)\n",
    "plt.plot(fpr4, tpr4, color='brown', lw=2, label='PP12-d7isop (area = %0.2f)' % roc_auc4)\n",
    "plt.plot(fpr5, tpr5, color='hotpink', lw=2, label='Q6-d5eth (area = %0.2f)' % roc_auc5)\n",
    "plt.plot(fpr_all, tpr_all, color='darkorange', lw=2, label='Multiplex (area = %0.2f)' % roc_auc_all)\n",
    "\n",
    "\n",
    "plt.plot([0, 1], [0, 1], 'k--', label='Random classifier')\n",
    "\n",
    "plt.xticks(fontsize=8)\n",
    "plt.yticks(fontsize=8)\n",
    "plt.xlabel('False Positive Rate', fontsize=10)\n",
    "plt.ylabel('True Positive Rate', fontsize=10)\n",
    "plt.title('ROC Curve')\n",
    "plt.legend(bbox_to_anchor=(1.05, 1.0), loc='upper left')\n",
    "\n",
    "plt.show()"
   ]
  },
  {
   "cell_type": "code",
   "execution_count": null,
   "metadata": {},
   "outputs": [],
   "source": []
  },
  {
   "cell_type": "code",
   "execution_count": null,
   "metadata": {},
   "outputs": [],
   "source": []
  }
 ],
 "metadata": {
  "kernelspec": {
   "display_name": "Python 3 (ipykernel)",
   "language": "python",
   "name": "python3"
  },
  "language_info": {
   "codemirror_mode": {
    "name": "ipython",
    "version": 3
   },
   "file_extension": ".py",
   "mimetype": "text/x-python",
   "name": "python",
   "nbconvert_exporter": "python",
   "pygments_lexer": "ipython3",
   "version": "3.9.16"
  },
  "vscode": {
   "interpreter": {
    "hash": "9b11087c1161fdbcc042a6475e7a3ccc636f1edf095fe78164e1d6f66e8971fc"
   }
  }
 },
 "nbformat": 4,
 "nbformat_minor": 2
}
