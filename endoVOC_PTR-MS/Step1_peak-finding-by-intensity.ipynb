{
 "cells": [
  {
   "cell_type": "code",
   "execution_count": 39,
   "id": "461e79d0",
   "metadata": {},
   "outputs": [],
   "source": [
    "import pandas as pd\n",
    "import numpy as np\n",
    "import os\n",
    "import matplotlib.pyplot as plt\n",
    "import math\n",
    "from scipy.signal import find_peaks, peak_widths, peak_prominences\n",
    "from BaselineRemoval import BaselineRemoval"
   ]
  },
  {
   "cell_type": "code",
   "execution_count": 40,
   "id": "e1c97323",
   "metadata": {},
   "outputs": [
    {
     "name": "stdout",
     "output_type": "stream",
     "text": [
      "['2024_01_16_6wks_5plex_EA2_1_blank.txt', '2024_01_16_6wks_5plex_EA2_1_part_001.txt', '2024_01_16_6wks_5plex_EA2_2_blank.txt', '2024_01_16_6wks_5plex_EA2_2_part_001.txt', '2024_01_16_6wks_5plex_EA2_3_blank.txt', '2024_01_16_6wks_5plex_EA2_3_part_001.txt', '2024_01_16_6wks_5plex_EA2_4_blank.txt', '2024_01_16_6wks_5plex_EA2_4_part_001.txt', '2024_01_16_6wks_5plex_EA2_5_blank.txt', '2024_01_16_6wks_5plex_EA2_5_part_001.txt', '2024_01_16_6wks_5plex_EA4_1_blank.txt', '2024_01_16_6wks_5plex_EA4_1_part_001.txt', '2024_01_16_6wks_5plex_EA4_2_blank.txt', '2024_01_16_6wks_5plex_EA4_2_part_001.txt', '2024_01_16_6wks_5plex_EA4_3_blank.txt', '2024_01_16_6wks_5plex_EA4_3_part_001.txt', '2024_01_16_6wks_5plex_EA4_4_blank.txt', '2024_01_16_6wks_5plex_EA4_4_part_001.txt', '2024_01_16_6wks_5plex_EA4_5_blank.txt', '2024_01_16_6wks_5plex_EA4_5_part_001.txt', '2024_01_16_6wks_5plex_EA5_4_blank.txt', '2024_01_16_6wks_5plex_EA5_4_part_001.txt', '2024_01_16_6wks_5plex_EA5_5_blank.txt', '2024_01_16_6wks_5plex_EA5_5_part_001.txt', '2024_01_16_6wks_5plex_Healthy1_blank.txt', '2024_01_16_6wks_5plex_Healthy1_part_001.txt', '2024_01_16_6wks_5plex_Healthy2_blank.txt', '2024_01_16_6wks_5plex_Healthy2_part_001.txt', '2024_01_16_6wks_5plex_Healthy3_blank.txt', '2024_01_16_6wks_5plex_Healthy3_part_001.txt', '2024_01_16_6wks_5plex_Healthy4_blank.txt', '2024_01_16_6wks_5plex_Healthy4_part_001.txt', '2024_01_16_6wks_5plex_Healthy5_blank.txt', '2024_01_16_6wks_5plex_Healthy5_part_001.txt', '2024_01_16_6wks_5plex_Healthy6_blank.txt', '2024_01_16_6wks_5plex_Healthy6_part_001.txt', '2024_01_16_6wks_5plex_Healthy7_blank.txt', '2024_01_16_6wks_5plex_Healthy7_part_001.txt', '2024_01_17_6wks_5plex_EA3_3_blank.txt', '2024_01_17_6wks_5plex_EA3_3_part_001.txt', '2024_01_17_6wks_5plex_EA3_4_blank.txt', '2024_01_17_6wks_5plex_EA3_4_part_001.txt', '2024_01_17_6wks_5plex_EA3_5_blank.txt', '2024_01_17_6wks_5plex_EA3_5_part_001.txt', '2024_01_17_6wks_5plex_Healthy1_blank.txt', '2024_01_17_6wks_5plex_Healthy1_part_001.txt', '2024_01_17_6wks_5plex_Healthy2_blank.txt', '2024_01_17_6wks_5plex_Healthy2_part_001.txt', 'Peaks']\n"
     ]
    }
   ],
   "source": [
    "global_dir_path = \"C://Users/chris/OneDrive/Desktop/MIT postdoc project/ABN project/Lung cancer/Headspace_data\"\n",
    "#4wks\n",
    "# dir_path = global_dir_path + '/2023_0809_Breath_EA_4w/Spectra'\n",
    "# dir_path = global_dir_path + '/2023_1019_Breath_EA_4w/Spectra'\n",
    "# #5wks\n",
    "# dir_path = global_dir_path + '/2024_0520_Breath_EA_5w/Spectra'\n",
    "# dir_path = global_dir_path + '/2024_1105_Breath_EA_5w/Spectra'\n",
    "# #6wks\n",
    "dir_path = global_dir_path + '/2024_0116_Breath_EA_6w/Spectra' \n",
    "# dir_path = global_dir_path + '/2024_0628_Breath_EA_6w/Spectra' #relapse Tx2\n",
    "\n",
    "dir_list = sorted(os.listdir(dir_path))\n",
    "print(dir_list)"
   ]
  },
  {
   "cell_type": "code",
   "execution_count": 41,
   "id": "6a01b55f",
   "metadata": {},
   "outputs": [],
   "source": [
    "def get_prominence(d):\n",
    "    peaks, _ = find_peaks(signal_corr, distance=d, height=HEIGHT, width=1.2) #change, add width\n",
    "    prominences = peak_prominences(signal_corr, peaks)[0]\n",
    "\n",
    "    dictionary = {}\n",
    "    for i in prominences:\n",
    "        if int(i) not in dictionary:\n",
    "            dictionary[int(i)] = 1\n",
    "        else: \n",
    "            dictionary[int(i)] += 1 \n",
    "\n",
    "    result = max(dictionary.values())\n",
    "    prom = []\n",
    "    for i in dictionary:\n",
    "        if dictionary[i] == result:\n",
    "            prom.append(i)\n",
    "\n",
    "    best_p = max(prom)\n",
    "\n",
    "    return best_p"
   ]
  },
  {
   "cell_type": "code",
   "execution_count": 42,
   "id": "ae6375b9",
   "metadata": {
    "scrolled": true
   },
   "outputs": [],
   "source": [
    "def view_peak(d):\n",
    "    peaks, _ = find_peaks(signal_corr, distance=d, height=HEIGHT, width=1.2) #change, add width\n",
    "    plt.plot(m_to_z, signal_corr, label='data (baseline corrected)')\n",
    "    plt.plot(m_to_z[peaks], signal_corr[peaks], \"x\", label='peaks')\n",
    "    plt.xlabel('m/z')\n",
    "    plt.ylabel('Intensity (a.u.)')\n",
    "    plt.ylim(0, 200)\n",
    "    plt.xlim(14,300)\n",
    "    plt.legend()\n",
    "    plt.show()\n",
    "    \n",
    "def get_mz(d):\n",
    "    peaks, _ = find_peaks(signal_corr, distance=d, height=HEIGHT, width=1.2) #change, add width\n",
    "    mz = np.zeros(len(peaks))\n",
    "    for i in range(len(peaks)):\n",
    "        index = peaks[i]\n",
    "        mz[i] = m_to_z[index]\n",
    "    return mz\n",
    "\n",
    "def min_dist(arr):\n",
    "    min_dist = 100000\n",
    "    for i in range(len(arr) - 1):\n",
    "        if arr[i + 1] - arr[i] < min_dist:\n",
    "            min_dist = arr[i + 1] - arr[i]\n",
    "    return min_dist"
   ]
  },
  {
   "cell_type": "code",
   "execution_count": 44,
   "id": "f53b506d",
   "metadata": {},
   "outputs": [
    {
     "name": "stdout",
     "output_type": "stream",
     "text": [
      "C://Users/chris/OneDrive/Desktop/MIT postdoc project/ABN project/Lung cancer/Headspace_data/2024_0116_Breath_EA_6w/Spectra/2024_01_16_6wks_5plex_EA2_1_blank.txt\n",
      "C://Users/chris/OneDrive/Desktop/MIT postdoc project/ABN project/Lung cancer/Headspace_data/2024_0116_Breath_EA_6w/Spectra/2024_01_16_6wks_5plex_EA2_2_blank.txt\n",
      "C://Users/chris/OneDrive/Desktop/MIT postdoc project/ABN project/Lung cancer/Headspace_data/2024_0116_Breath_EA_6w/Spectra/2024_01_16_6wks_5plex_EA2_3_blank.txt\n",
      "C://Users/chris/OneDrive/Desktop/MIT postdoc project/ABN project/Lung cancer/Headspace_data/2024_0116_Breath_EA_6w/Spectra/2024_01_16_6wks_5plex_EA2_4_blank.txt\n",
      "C://Users/chris/OneDrive/Desktop/MIT postdoc project/ABN project/Lung cancer/Headspace_data/2024_0116_Breath_EA_6w/Spectra/2024_01_16_6wks_5plex_EA2_5_blank.txt\n",
      "C://Users/chris/OneDrive/Desktop/MIT postdoc project/ABN project/Lung cancer/Headspace_data/2024_0116_Breath_EA_6w/Spectra/2024_01_16_6wks_5plex_EA4_1_blank.txt\n",
      "C://Users/chris/OneDrive/Desktop/MIT postdoc project/ABN project/Lung cancer/Headspace_data/2024_0116_Breath_EA_6w/Spectra/2024_01_16_6wks_5plex_EA4_2_blank.txt\n",
      "C://Users/chris/OneDrive/Desktop/MIT postdoc project/ABN project/Lung cancer/Headspace_data/2024_0116_Breath_EA_6w/Spectra/2024_01_16_6wks_5plex_EA4_3_blank.txt\n",
      "C://Users/chris/OneDrive/Desktop/MIT postdoc project/ABN project/Lung cancer/Headspace_data/2024_0116_Breath_EA_6w/Spectra/2024_01_16_6wks_5plex_EA4_4_blank.txt\n",
      "C://Users/chris/OneDrive/Desktop/MIT postdoc project/ABN project/Lung cancer/Headspace_data/2024_0116_Breath_EA_6w/Spectra/2024_01_16_6wks_5plex_EA4_5_blank.txt\n",
      "C://Users/chris/OneDrive/Desktop/MIT postdoc project/ABN project/Lung cancer/Headspace_data/2024_0116_Breath_EA_6w/Spectra/2024_01_16_6wks_5plex_EA5_4_blank.txt\n",
      "C://Users/chris/OneDrive/Desktop/MIT postdoc project/ABN project/Lung cancer/Headspace_data/2024_0116_Breath_EA_6w/Spectra/2024_01_16_6wks_5plex_EA5_5_blank.txt\n",
      "C://Users/chris/OneDrive/Desktop/MIT postdoc project/ABN project/Lung cancer/Headspace_data/2024_0116_Breath_EA_6w/Spectra/2024_01_16_6wks_5plex_Healthy1_blank.txt\n",
      "C://Users/chris/OneDrive/Desktop/MIT postdoc project/ABN project/Lung cancer/Headspace_data/2024_0116_Breath_EA_6w/Spectra/2024_01_16_6wks_5plex_Healthy2_blank.txt\n",
      "C://Users/chris/OneDrive/Desktop/MIT postdoc project/ABN project/Lung cancer/Headspace_data/2024_0116_Breath_EA_6w/Spectra/2024_01_16_6wks_5plex_Healthy3_blank.txt\n",
      "C://Users/chris/OneDrive/Desktop/MIT postdoc project/ABN project/Lung cancer/Headspace_data/2024_0116_Breath_EA_6w/Spectra/2024_01_16_6wks_5plex_Healthy4_blank.txt\n",
      "C://Users/chris/OneDrive/Desktop/MIT postdoc project/ABN project/Lung cancer/Headspace_data/2024_0116_Breath_EA_6w/Spectra/2024_01_16_6wks_5plex_Healthy5_blank.txt\n",
      "C://Users/chris/OneDrive/Desktop/MIT postdoc project/ABN project/Lung cancer/Headspace_data/2024_0116_Breath_EA_6w/Spectra/2024_01_16_6wks_5plex_Healthy6_blank.txt\n",
      "C://Users/chris/OneDrive/Desktop/MIT postdoc project/ABN project/Lung cancer/Headspace_data/2024_0116_Breath_EA_6w/Spectra/2024_01_16_6wks_5plex_Healthy7_blank.txt\n",
      "C://Users/chris/OneDrive/Desktop/MIT postdoc project/ABN project/Lung cancer/Headspace_data/2024_0116_Breath_EA_6w/Spectra/2024_01_17_6wks_5plex_EA3_3_blank.txt\n",
      "C://Users/chris/OneDrive/Desktop/MIT postdoc project/ABN project/Lung cancer/Headspace_data/2024_0116_Breath_EA_6w/Spectra/2024_01_17_6wks_5plex_EA3_4_blank.txt\n",
      "C://Users/chris/OneDrive/Desktop/MIT postdoc project/ABN project/Lung cancer/Headspace_data/2024_0116_Breath_EA_6w/Spectra/2024_01_17_6wks_5plex_EA3_5_blank.txt\n",
      "C://Users/chris/OneDrive/Desktop/MIT postdoc project/ABN project/Lung cancer/Headspace_data/2024_0116_Breath_EA_6w/Spectra/2024_01_17_6wks_5plex_Healthy1_blank.txt\n",
      "C://Users/chris/OneDrive/Desktop/MIT postdoc project/ABN project/Lung cancer/Headspace_data/2024_0116_Breath_EA_6w/Spectra/2024_01_17_6wks_5plex_Healthy2_blank.txt\n"
     ]
    }
   ],
   "source": [
    "#Background substraction\n",
    "for i in range(0, len(dir_list), 2):\n",
    "    if \".txt\" in dir_list[i]:\n",
    "        name = dir_path + '/' + dir_list[i]\n",
    "        print(name) # to make sure the bk are the blank files using this method\n",
    "\n",
    "        bk = pd.read_csv(name, sep='\\t')\n",
    "        df = pd.read_csv(dir_path + '/' + dir_list[i+1], sep='\\t')\n",
    "        \n",
    "        m_to_z = df.iloc[:,2]\n",
    "        signal = df.iloc[:,3]\n",
    "        bk_signal = bk.iloc[:,3]\n",
    "\n",
    "        sub_signal = signal-bk_signal #removes background signal\n",
    "        sub_signal = sub_signal.clip(lower=0) #removes negatives\n",
    "        base=BaselineRemoval(sub_signal)\n",
    "        signal_corr=base.ZhangFit() #ensures peaks all have the same baseline\n",
    "        HEIGHT = 10 #change\n",
    "\n",
    "        #Find min_d\n",
    "        arr = []\n",
    "        for d in range(1, 300): #change\n",
    "            arr.append((d, min_dist(get_mz(d))))\n",
    "        arr.sort(key = lambda x: x[1])\n",
    "\n",
    "        for j in range(len(arr)-1):\n",
    "            if arr[j][1] < 0.05 and arr[j][1] > 0.01: #change \n",
    "                min_d = arr[j][0]\n",
    "                break\n",
    "        \n",
    "        peaks, _ = find_peaks(signal_corr, distance=min_d, height=HEIGHT, width=1.2, prominence=get_prominence(min_d))\n",
    "        \n",
    "        peak_m_z = [m_to_z[peak] for peak in peaks] \n",
    "        intarray = [signal_corr[peak] for peak in peaks] \n",
    "             \n",
    "        zip_result = zip(peak_m_z, intarray)\n",
    "        columns=['m/z', 'Intensity (corr)']\n",
    "        df1 = pd.DataFrame(zip_result, columns=columns)\n",
    "\n",
    "        aucfilename = dir_path + '/Peaks/' + dir_list[i+1] \n",
    "\n",
    "        aucfilename = aucfilename.replace(\".txt\",\"_peaks.xlsx\") \n",
    "        df1.to_excel(aucfilename)"
   ]
  },
  {
   "cell_type": "code",
   "execution_count": null,
   "id": "2900f4f6",
   "metadata": {},
   "outputs": [],
   "source": []
  },
  {
   "cell_type": "code",
   "execution_count": null,
   "id": "66415907",
   "metadata": {},
   "outputs": [],
   "source": []
  }
 ],
 "metadata": {
  "kernelspec": {
   "display_name": "Python 3 (ipykernel)",
   "language": "python",
   "name": "python3"
  },
  "language_info": {
   "codemirror_mode": {
    "name": "ipython",
    "version": 3
   },
   "file_extension": ".py",
   "mimetype": "text/x-python",
   "name": "python",
   "nbconvert_exporter": "python",
   "pygments_lexer": "ipython3",
   "version": "3.13.5"
  },
  "vscode": {
   "interpreter": {
    "hash": "949777d72b0d2535278d3dc13498b2535136f6dfe0678499012e853ee9abcab1"
   }
  }
 },
 "nbformat": 4,
 "nbformat_minor": 5
}
