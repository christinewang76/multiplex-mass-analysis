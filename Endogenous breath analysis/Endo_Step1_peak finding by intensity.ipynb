{
 "cells": [
  {
   "cell_type": "code",
   "execution_count": 12,
   "id": "461e79d0",
   "metadata": {},
   "outputs": [],
   "source": [
    "import pandas as pd\n",
    "import numpy as np\n",
    "import os\n",
    "import matplotlib.pyplot as plt\n",
    "import math\n",
    "from scipy.signal import find_peaks, peak_widths, peak_prominences\n",
    "from BaselineRemoval import BaselineRemoval"
   ]
  },
  {
   "cell_type": "code",
   "execution_count": 13,
   "id": "485885bd",
   "metadata": {},
   "outputs": [
    {
     "name": "stdout",
     "output_type": "stream",
     "text": [
      "['2024_02_16_W6_EA4_1.txt', '2024_02_16_W6_EA4_1_blank.txt', '2024_02_16_W6_EA4_2.txt', '2024_02_16_W6_EA4_2_blank.txt', '2024_02_16_W6_EA4_3.txt', '2024_02_16_W6_EA4_3_blank.txt', '2024_02_16_W6_EA4_4.txt', '2024_02_16_W6_EA4_4_blank.txt', '2024_02_16_W6_EA5_1.txt', '2024_02_16_W6_EA5_1_blank.txt', '2024_02_16_W6_EA5_2.txt', '2024_02_16_W6_EA5_2_blank.txt', '2024_02_16_W6_EA5_3.txt', '2024_02_16_W6_EA5_3_blank.txt', '2024_02_16_W6_EA5_4.txt', '2024_02_16_W6_EA5_4_blank.txt', '2024_02_16_W6_EA5_5.txt', '2024_02_16_W6_EA5_5_blank.txt', '2024_02_16_W6_Healthy2_1.txt', '2024_02_16_W6_Healthy2_1_blank.txt', '2024_02_16_W6_Healthy2_2.txt', '2024_02_16_W6_Healthy2_2_blank.txt', '2024_02_16_W6_Healthy2_3.txt', '2024_02_16_W6_Healthy2_3_blank.txt', '2024_02_16_W6_Healthy2_4.txt', '2024_02_16_W6_Healthy2_4_blank.txt', '2024_02_16_W6_Healthy2_5.txt', '2024_02_16_W6_Healthy2_5_blank.txt', 'Peaks', 'Spectra not used']\n"
     ]
    }
   ],
   "source": [
    "#Import dataset1 for either training or testing\n",
    "global_dir_path = \"C://Users/chris/OneDrive/Desktop/MIT postdoc project/ABN project/Lung cancer/Headspace_data\"\n",
    "#4wks\n",
    "# dir_path = global_dir_path + '/2023_0809_0810_Breath_Eml4Alk_4wks_multiplex/Spectra'\n",
    "#5wks\n",
    "# dir_path = global_dir_path + '/2023_0816_0817_Breath_Eml4Alk_5wks_multiplex/All samples_spectra'\n",
    "#6wks\n",
    "# dir_path = global_dir_path + '/2023_May_June_Eml4Alk_6to8wks_spectra/2023_05_19_Breath_Eml4Alk_6wks_calibrated_spectra'\n",
    "\n",
    "#6wks August probably not use because it is the failed longitudinal\n",
    "#dir_path = global_dir_path + '/2023_08_24_Breath_EmlAlk_6wks_multiplex/Spectra'\n",
    "\n",
    "#4wks October\n",
    "# dir_path = global_dir_path + '/2023_10_19_Breath_Eml4Alk_4wk_5plex/Spectra'\n",
    "\n",
    "#5wks October\n",
    "# dir_path = global_dir_path + '/2023_10_26_Breath_Eml4Alk_5wks_cohort2/spectra'\n",
    "\n",
    "#6wks October also failed longitudinal but at least some of the signals were correct (also more advanced tumors)\n",
    "# dir_path = global_dir_path + '/2023_10_23_Breath_Eml4-Alk_6wks_cohort1/spectra'\n",
    "\n",
    "#6wks Jan2024\n",
    "# dir_path = global_dir_path + '/2024_0116_0117_Breath_Eml4aLK_6w_endo'\n",
    "\n",
    "#5wks Feb2024\n",
    "# dir_path = global_dir_path + '/2024_02_09_Eml4-Alk_5wks_multiplex/Spectra'\n",
    "\n",
    "#6wks Feb2024\n",
    "dir_path = global_dir_path + '/2024_02_16_Eml4Alk_6wks_multiplex/spectra'\n",
    "\n",
    "dir_list = sorted(os.listdir(dir_path))\n",
    "print(dir_list)\n",
    "\n",
    "# dir_list2 = sorted(os.listdir(dir_path2))\n",
    "# print(dir_list2)"
   ]
  },
  {
   "cell_type": "code",
   "execution_count": 14,
   "id": "6a01b55f",
   "metadata": {},
   "outputs": [],
   "source": [
    "def get_prominence(d):\n",
    "    peaks, _ = find_peaks(signal_corr, distance=d, height=HEIGHT, width=1.2) #change, add width\n",
    "    prominences = peak_prominences(signal_corr, peaks)[0]\n",
    "\n",
    "    dictionary = {}\n",
    "    for i in prominences:\n",
    "        if int(i) not in dictionary:\n",
    "            dictionary[int(i)] = 1\n",
    "        else: \n",
    "            dictionary[int(i)] += 1 \n",
    "\n",
    "    result = max(dictionary.values())\n",
    "    prom = []\n",
    "    for i in dictionary:\n",
    "        if dictionary[i] == result:\n",
    "            prom.append(i)\n",
    "\n",
    "    best_p = max(prom)\n",
    "\n",
    "    return best_p"
   ]
  },
  {
   "cell_type": "code",
   "execution_count": 15,
   "id": "ae6375b9",
   "metadata": {
    "scrolled": true
   },
   "outputs": [],
   "source": [
    "def view_peak(d):\n",
    "    peaks, _ = find_peaks(signal_corr, distance=d, height=HEIGHT, width=1.2) #change, add width\n",
    "    plt.plot(m_to_z, signal_corr, label='data (baseline corrected)')\n",
    "    plt.plot(m_to_z[peaks], signal_corr[peaks], \"x\", label='peaks')\n",
    "    plt.xlabel('m/z')\n",
    "    plt.ylabel('Intensity (a.u.)')\n",
    "    #plt.ylim(0, 1000)\n",
    "    #plt.xlim(13,50)\n",
    "    plt.legend()\n",
    "    plt.show()\n",
    "    \n",
    "def get_mz(d):\n",
    "    peaks, _ = find_peaks(signal_corr, distance=d, height=HEIGHT, width=1.2) #change, add width\n",
    "    mz = np.zeros(len(peaks))\n",
    "    for i in range(len(peaks)):\n",
    "        index = peaks[i]\n",
    "        mz[i] = m_to_z[index]\n",
    "    return mz\n",
    "\n",
    "def min_dist(arr):\n",
    "    min_dist = 100000\n",
    "    for i in range(len(arr) - 1):\n",
    "        if arr[i + 1] - arr[i] < min_dist:\n",
    "            min_dist = arr[i + 1] - arr[i]\n",
    "    return min_dist"
   ]
  },
  {
   "cell_type": "code",
   "execution_count": 16,
   "id": "f53b506d",
   "metadata": {},
   "outputs": [
    {
     "name": "stdout",
     "output_type": "stream",
     "text": [
      "C://Users/chris/OneDrive/Desktop/MIT postdoc project/ABN project/Lung cancer/Headspace_data/2024_02_16_Eml4Alk_6wks_multiplex/spectra/2024_02_16_W6_EA4_1.txt\n",
      "C://Users/chris/OneDrive/Desktop/MIT postdoc project/ABN project/Lung cancer/Headspace_data/2024_02_16_Eml4Alk_6wks_multiplex/spectra/2024_02_16_W6_EA4_2.txt\n",
      "C://Users/chris/OneDrive/Desktop/MIT postdoc project/ABN project/Lung cancer/Headspace_data/2024_02_16_Eml4Alk_6wks_multiplex/spectra/2024_02_16_W6_EA4_3.txt\n",
      "C://Users/chris/OneDrive/Desktop/MIT postdoc project/ABN project/Lung cancer/Headspace_data/2024_02_16_Eml4Alk_6wks_multiplex/spectra/2024_02_16_W6_EA4_4.txt\n",
      "C://Users/chris/OneDrive/Desktop/MIT postdoc project/ABN project/Lung cancer/Headspace_data/2024_02_16_Eml4Alk_6wks_multiplex/spectra/2024_02_16_W6_EA5_1.txt\n",
      "C://Users/chris/OneDrive/Desktop/MIT postdoc project/ABN project/Lung cancer/Headspace_data/2024_02_16_Eml4Alk_6wks_multiplex/spectra/2024_02_16_W6_EA5_2.txt\n",
      "C://Users/chris/OneDrive/Desktop/MIT postdoc project/ABN project/Lung cancer/Headspace_data/2024_02_16_Eml4Alk_6wks_multiplex/spectra/2024_02_16_W6_EA5_3.txt\n",
      "C://Users/chris/OneDrive/Desktop/MIT postdoc project/ABN project/Lung cancer/Headspace_data/2024_02_16_Eml4Alk_6wks_multiplex/spectra/2024_02_16_W6_EA5_4.txt\n",
      "C://Users/chris/OneDrive/Desktop/MIT postdoc project/ABN project/Lung cancer/Headspace_data/2024_02_16_Eml4Alk_6wks_multiplex/spectra/2024_02_16_W6_EA5_5.txt\n",
      "C://Users/chris/OneDrive/Desktop/MIT postdoc project/ABN project/Lung cancer/Headspace_data/2024_02_16_Eml4Alk_6wks_multiplex/spectra/2024_02_16_W6_Healthy2_1.txt\n",
      "C://Users/chris/OneDrive/Desktop/MIT postdoc project/ABN project/Lung cancer/Headspace_data/2024_02_16_Eml4Alk_6wks_multiplex/spectra/2024_02_16_W6_Healthy2_2.txt\n",
      "C://Users/chris/OneDrive/Desktop/MIT postdoc project/ABN project/Lung cancer/Headspace_data/2024_02_16_Eml4Alk_6wks_multiplex/spectra/2024_02_16_W6_Healthy2_3.txt\n",
      "C://Users/chris/OneDrive/Desktop/MIT postdoc project/ABN project/Lung cancer/Headspace_data/2024_02_16_Eml4Alk_6wks_multiplex/spectra/2024_02_16_W6_Healthy2_4.txt\n",
      "C://Users/chris/OneDrive/Desktop/MIT postdoc project/ABN project/Lung cancer/Headspace_data/2024_02_16_Eml4Alk_6wks_multiplex/spectra/2024_02_16_W6_Healthy2_5.txt\n"
     ]
    }
   ],
   "source": [
    "#Background substraction\n",
    "for i in range(0, len(dir_list), 2):\n",
    "    if \".txt\" in dir_list[i]:\n",
    "        name = dir_path + '/' + dir_list[i]\n",
    "        print(name) # to make sure the bk are the blank files using this method\n",
    "\n",
    "        #for 4wk, 5wk August 6wks, Jan2024 6wks\n",
    "#         bk = pd.read_csv(name, sep='\\t')\n",
    "#         df = pd.read_csv(dir_path + '/' + dir_list[i+1], sep='\\t')\n",
    "\n",
    "        #for 6 wks May, Feb2024 5wks, and Feb2024 6wks\n",
    "        df = pd.read_csv(name, sep='\\t')\n",
    "        bk = pd.read_csv(dir_path + '/' + dir_list[i+1], sep='\\t')\n",
    "        \n",
    "        m_to_z = df.iloc[:,2]\n",
    "        signal = df.iloc[:,3]\n",
    "        bk_signal = bk.iloc[:,3]\n",
    "\n",
    "        sub_signal = signal-bk_signal #removes background signal\n",
    "        sub_signal = sub_signal.clip(lower=0) #removes negatives\n",
    "        base=BaselineRemoval(sub_signal)\n",
    "        signal_corr=base.ZhangFit() #ensures peaks all have the same baseline\n",
    "        HEIGHT = 15\n",
    "\n",
    "        #Find min_d\n",
    "        arr = []\n",
    "        for d in range(1, 300): #change, increase range\n",
    "            arr.append((d, min_dist(get_mz(d))))\n",
    "        arr.sort(key = lambda x: x[1])\n",
    "\n",
    "        for j in range(len(arr)-1):\n",
    "            if arr[j][1] < 0.03 and arr[j][1] > 0.01: #change, distance 0.05 m/z instead of 0.01\n",
    "                #adjust the range to 0.06 because some files cannot find min_d if the range is too small\n",
    "                min_d = arr[j][0]\n",
    "                break\n",
    "        \n",
    "        peaks, _ = find_peaks(signal_corr, distance=min_d, height=HEIGHT, width=1.2, prominence=get_prominence(min_d))\n",
    "        \n",
    "        peak_m_z = [m_to_z[peak] for peak in peaks] #THIS IS CORRECT \n",
    "        intarray = [signal_corr[peak] for peak in peaks] #THIS IS CORRECT\n",
    "             \n",
    "        zip_result = zip(peak_m_z, intarray)\n",
    "        columns=['m/z', 'Intensity (corr)']\n",
    "        df1 = pd.DataFrame(zip_result, columns=columns)\n",
    "\n",
    "        #for 4wk, 5wk, August 6wk, and Jan2024 6wk\n",
    "#         aucfilename = dir_path + '/Peaks/' + dir_list[i+1]  #NEED TO CREATE NEW FOLDER\n",
    "\n",
    "        #for 6 wks May, Feb2024 5wks, and Feb2024 6wks\n",
    "        aucfilename = dir_path + '/Peaks/' + dir_list[i]  #NEED TO CREATE NEW FOLDER\n",
    "\n",
    "        aucfilename = aucfilename.replace(\".txt\",\"_peaks.xlsx\") \n",
    "        df1.to_excel(aucfilename)"
   ]
  },
  {
   "cell_type": "code",
   "execution_count": null,
   "id": "2900f4f6",
   "metadata": {},
   "outputs": [],
   "source": []
  },
  {
   "cell_type": "code",
   "execution_count": null,
   "id": "66415907",
   "metadata": {},
   "outputs": [],
   "source": []
  }
 ],
 "metadata": {
  "kernelspec": {
   "display_name": "Python 3 (ipykernel)",
   "language": "python",
   "name": "python3"
  },
  "language_info": {
   "codemirror_mode": {
    "name": "ipython",
    "version": 3
   },
   "file_extension": ".py",
   "mimetype": "text/x-python",
   "name": "python",
   "nbconvert_exporter": "python",
   "pygments_lexer": "ipython3",
   "version": "3.9.16"
  },
  "vscode": {
   "interpreter": {
    "hash": "949777d72b0d2535278d3dc13498b2535136f6dfe0678499012e853ee9abcab1"
   }
  }
 },
 "nbformat": 4,
 "nbformat_minor": 5
}
